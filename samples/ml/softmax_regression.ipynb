{
 "cells": [
  {
   "cell_type": "markdown",
   "metadata": {},
   "source": [
    "# Softmax Regression\n",
    "- [文档及公式描述](http://ufldl.stanford.edu/tutorial/supervised/SoftmaxRegression/)\n",
    "- [scikit-learn 中 OneHotEncoder 解析](https://www.cnblogs.com/zhoukui/p/9159909.html)\n"
   ]
  },
  {
   "cell_type": "code",
   "execution_count": 1,
   "metadata": {},
   "outputs": [
    {
     "data": {
      "image/png": "[encoded data removed]",
      "text/plain": [
       "<Figure size 432x288 with 1 Axes>"
      ]
     },
     "metadata": {
      "needs_background": "light"
     },
     "output_type": "display_data"
    }
   ],
   "source": [
    "# original method, use numpy to implement\n",
    "%matplotlib inline\n",
    "from sklearn.datasets.samples_generator import make_blobs\n",
    "from sklearn.model_selection import train_test_split\n",
    "from sklearn.preprocessing import OneHotEncoder\n",
    "import matplotlib.pyplot as plt\n",
    "import numpy as np\n",
    "from math import exp, log\n",
    "import copy\n",
    "np.random.seed(1)\n",
    "\n",
    "# Hyper-parameters\n",
    "LR = 0.05\n",
    "DECAY_RATE = 0.005\n",
    "THETA = np.random.normal(0, 0.5, 3*3).reshape(3, 3)\n",
    "EPOCH = 20\n",
    "\n",
    "X, Y = make_blobs(n_samples=150, n_features=2, centers=3, random_state=3)\n",
    "# transform y to onehot vector\n",
    "# scikit-learn 中 OneHotEncoder 解析 https://www.cnblogs.com/zhoukui/p/9159909.html\n",
    "encoder = OneHotEncoder(categories='auto')\n",
    "Y = encoder.fit_transform(np.reshape(Y, (150,1))).toarray()\n",
    "X_train, X_test, Y_train, Y_test = train_test_split(X, Y, test_size=0.3, random_state=0)\n",
    "plt.scatter(X_train[:,0], X_train[:, 1], c=np.argmax(Y_train, axis=1), edgecolors='white', marker='s')\n",
    "plt.show()\n",
    "\n",
    "X0_train = np.ones([X_train.shape[0],1],dtype=X_train.dtype)\n",
    "X0_test = np.ones([X_test.shape[0],1], dtype=X_test.dtype)\n",
    "X_train_original = copy.deepcopy(X_train)\n",
    "X_train = np.concatenate((X0_train,X_train), axis=1)\n",
    "X_test = np.concatenate((X0_test, X_test), axis=1)"
   ]
  },
  {
   "cell_type": "code",
   "execution_count": 2,
   "metadata": {},
   "outputs": [
    {
     "name": "stdout",
     "output_type": "stream",
     "text": [
      "THETA [[ 3.05441469  0.77867221  0.56945822]\n",
      " [ 3.17164649 -2.97672797  5.24549999]\n",
      " [ 8.56296797  0.81404279  7.53288853]]\n"
     ]
    },
    {
     "data": {
      "image/png": "[encoded data removed]",
      "text/plain": [
       "<Figure size 432x288 with 1 Axes>"
      ]
     },
     "metadata": {
      "needs_background": "light"
     },
     "output_type": "display_data"
    }
   ],
   "source": [
    "## 2. Make a hypothesis\n",
    "def hypothesis(x, THETA):\n",
    "    x = np.reshape(x, (3, 1))\n",
    "    temp = np.matmul(THETA.T, x)\n",
    "    temp = np.exp(temp)\n",
    "    denominator = np.sum(temp)\n",
    "    hypothesis = temp / denominator # normalize into 1return \n",
    "    return hypothesis\n",
    "\n",
    "## 3. Loss definition\n",
    "def compute_loss(x, y,THETA):\n",
    "    loss = 0\n",
    "    x = np.reshape(x, (3, 1))\n",
    "    y = np.reshape(y, (3, 1))     # \n",
    "    h_x = hypothesis(x, THETA)    # hypothesis (3, 1)\n",
    "    label = np.argmax(y, axis=0)  # the category of prediction\n",
    "    loss += (-np.log(h_x[label][0] + 0.0000001))  # loss = - y * log(y')\n",
    "    return loss\n",
    "\n",
    "## 4. Parameters updating\n",
    "def update_parameters(THETA, x, y):\n",
    "    x = np.reshape(x, (3, 1))\n",
    "    y = np.reshape(y, (3, 1))\n",
    "    \n",
    "    h_x = hypothesis(x, THETA)\n",
    "\n",
    "    label = np.argmax(y, axis=0)\n",
    "    #print(y, label)\n",
    "    # θk := θk - （-yk * (1/y'k) * x)  k --> the class, yk and y'k are real number, x is a vector \n",
    "    #THETA[:, label] = THETA[:, label] - LR *(-y[label][0] * (1 / h_x[label][0] * x))\n",
    "    #HETA[:, label] = THETA[:, label] - LR *(1-h_x[label][0])x\n",
    "    #print(h_x)\n",
    "    x = np.reshape(x,[3,1])\n",
    "    #print(THETA[:, label].shape)\n",
    "    THETA[:, label] = THETA[:, label]+LR*(1-h_x[label][0])*x\n",
    "    return THETA\n",
    "\n",
    "for epoch in range(EPOCH):\n",
    "    LR = LR * (1 / (1 + DECAY_RATE * epoch))\n",
    "    i = 0 # retrieve H_x\n",
    "    for x,y in zip(X_train,Y_train):\n",
    "        loss = compute_loss(x, y, THETA)\n",
    "        #print('[{0}/{1}] loss is: {2}'.format(epoch+1, EPOCH, loss))\n",
    "        THETA = update_parameters(THETA, x, y)\n",
    "\n",
    "i = 0\n",
    "print('THETA', THETA)\n",
    "H_test = np.zeros((Y_test.shape[0], Y_test.shape[1]))\n",
    "#H_test = np.zeros([Y_test.shape[0], 1], dtype=Y_test.dtype)\n",
    "for x, y in zip(X_test, Y_test):\n",
    "    H_test[i] = hypothesis(x, THETA).T\n",
    "    i+=1\n",
    "plt.figure(1)\n",
    "x = np.linspace(-7, 4, 50)\n",
    "plt.scatter(X_test[:, 1], X_test[:, 2], c=np.argmax(H_test, axis=1), edgecolors='white', marker='s')\n",
    "plt.show()\n"
   ]
  }
 ],
 "metadata": {
  "kernelspec": {
   "display_name": "Python 3",
   "language": "python",
   "name": "python3"
  },
  "language_info": {
   "codemirror_mode": {
    "name": "ipython",
    "version": 3
   },
   "file_extension": ".py",
   "mimetype": "text/x-python",
   "name": "python",
   "nbconvert_exporter": "python",
   "pygments_lexer": "ipython3",
   "version": "3.6.8"
  }
 },
 "nbformat": 4,
 "nbformat_minor": 4
}
