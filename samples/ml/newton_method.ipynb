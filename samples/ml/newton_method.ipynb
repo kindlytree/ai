{
 "cells": [
  {
   "cell_type": "markdown",
   "metadata": {},
   "source": [
    "# Newton method\n",
    "- [Hessian矩阵](https://note.youdao.com/ynoteshare1/index.html?id=a3dda151febf0da4dc17df5ec918b41b&type=note)\n",
    "- [logistic regression](https://note.youdao.com/ynoteshare1/index.html?id=a62bb63c6a049ce5e0cdc8abfe8ba3fd&type=note)"
   ]
  },
  {
   "cell_type": "markdown",
   "metadata": {},
   "source": [
    "- [参考资源](https://github.com/Sierkinhane/CS229-ML-Implements/blob/master/00-SupervisedLearning/02-Classification/02-NewtonMethod.py)"
   ]
  },
  {
   "cell_type": "code",
   "execution_count": 1,
   "metadata": {},
   "outputs": [
    {
     "data": {
      "image/png": "[encoded data removed]",
      "text/plain": [
       "<Figure size 432x288 with 1 Axes>"
      ]
     },
     "metadata": {
      "needs_background": "light"
     },
     "output_type": "display_data"
    }
   ],
   "source": [
    "# original method, use numpy to implement\n",
    "%matplotlib inline\n",
    "from sklearn.datasets.samples_generator import make_blobs\n",
    "from sklearn.model_selection import train_test_split\n",
    "import matplotlib.pyplot as plt\n",
    "import numpy as np\n",
    "from numpy.linalg import inv\n",
    "from math import exp, log\n",
    "import copy\n",
    "\n",
    "## Hyper-paramters definition\n",
    "LR = 0.05\n",
    "EPOCH = 5\n",
    "# numpy.random.normal(loc=0.0, scale=1.0, size=None)  \n",
    "# loc:float 概率分布的均值，对应着整个分布的中心center\n",
    "# scale:float概率分布的标准差，对应于分布的宽度，scale越大越矮胖，scale越小，越瘦高\n",
    "# size:int or tuple of ints\n",
    "# 我们更经常会用到np.random.randn(size)所谓标准正太分布（μ=0, σ=1），对应于np.random.normal(loc=0, scale=1, size)\n",
    "THETA = np.random.normal(0, 0.1, 3).reshape(3, 1) # learnable parameters\n",
    "# https://www.jianshu.com/p/069d8841bd8e make_blobs函数是为聚类产生数据集\n",
    "X, Y = make_blobs(n_samples=300, centers=2, n_features=2, random_state=3)\n",
    "# plt.scatter(X[:, 0], X[:, 1], c=Y)\n",
    "# plt.show()\n",
    "X_train, X_test, Y_train, Y_test = train_test_split(X, Y, test_size=0.3, random_state=0)\n",
    "plt.scatter(X_train[:,0], X_train[:, 1], c=Y_train, edgecolors='white', marker='s')\n",
    "plt.show()\n",
    "\n",
    "X0_train = np.ones([X_train.shape[0],1],dtype=X_train.dtype)\n",
    "X0_test = np.ones([X_test.shape[0],1], dtype=X_test.dtype)\n",
    "X_train_original = copy.deepcopy(X_train)\n",
    "X_train = np.concatenate((X0_train,X_train), axis=1)\n",
    "X_test = np.concatenate((X0_test, X_test), axis=1)"
   ]
  },
  {
   "cell_type": "code",
   "execution_count": 2,
   "metadata": {},
   "outputs": [
    {
     "name": "stdout",
     "output_type": "stream",
     "text": [
      "THETA [[-1.06531132e+10  1.39442695e+09  2.80997670e+09]\n",
      " [-1.06531132e+10  1.39442695e+09  2.80997670e+09]\n",
      " [-1.06531132e+10  1.39442695e+09  2.80997670e+09]]\n"
     ]
    },
    {
     "data": {
      "image/png": "[encoded data removed]",
      "text/plain": [
       "<Figure size 432x288 with 1 Axes>"
      ]
     },
     "metadata": {
      "needs_background": "light"
     },
     "output_type": "display_data"
    }
   ],
   "source": [
    "def linear_h(theta, x):\n",
    "    #print(x)\n",
    "    h_x = np.matmul(theta.T,x.T)\n",
    "    return h_x\n",
    "\n",
    "def sigmoid(x):\n",
    "    z = linear_h(THETA,x)[0]\n",
    "    # evade outofrange error\n",
    "    if z > 50:\n",
    "        z = 50\n",
    "    if z < -50:\n",
    "        z = -50\n",
    "    g = 1/(1 + exp(-z))\n",
    "    return g\n",
    "\n",
    "def loss_function(sample):\n",
    "    x,y = sample[0], sample[1][0]\n",
    "    #print(x,y)\n",
    "    p = sigmoid(x)\n",
    "    #print(p)\n",
    "    if p == 1:\n",
    "        p = 1-0.000000001\n",
    "    loss = -y*log(p)-(1-y)*log(1-p)\n",
    "    #print(loss)\n",
    "    return loss\n",
    "\n",
    "# return a hessian matirx for parameters updating\n",
    "# g(z)= \\frac{1}{1+e^{-z}}\n",
    "# g'(z)= g(z)(1-g(z))\n",
    "# g''(z) = -g(z)(1-g(z)\n",
    "def hessian(sec_derivative ,x):\n",
    "    H = np.zeros((x.size, x.size), dtype='float32')\n",
    "    #print(x, sec_derivative)\n",
    "    for i in range(x.size):\n",
    "        for j in range(x.size):\n",
    "            # sometimes sec_derivative would be 0, adding 0.000000001 is to make sure the H is non-singular\n",
    "            H[i, j] = (sec_derivative+0.000000001) *x[i] *x[j]\n",
    "    return H\n",
    "\n",
    "## Fourth step: Updating parameters\n",
    "def update_parameters(THETA, y, x):\n",
    "    #x = np.reshape(x, THETA.shape)\n",
    "    # print(x)\n",
    "    g = sigmoid(x)\n",
    "    # for Hessian matirx\n",
    "    sec_derivative = -g *(1- g) # *xi *xj --> a hessian entry\n",
    "    # shape of H = (x.size, x.size)\n",
    "    H = hessian(sec_derivative, x)\n",
    "    #print(H)\n",
    "    # update parameters\n",
    "    # Actually should inverse H\n",
    "    THETA = THETA - np.matmul(inv(H), (y-g) *x)\n",
    "    return THETA\n",
    "\n",
    "for ep in range(EPOCH):\n",
    "    for index in range(X_train.shape[0]):\n",
    "        x = X_train[index:(index+1),:].reshape([3]) # 1*2 matrix\n",
    "        y = Y_train[index:(index+1)]#1\n",
    "        #print(batch_X)\n",
    "        h_X = sigmoid(x)\n",
    "        loss = loss_function((x,y))\n",
    "        THETA = update_parameters(THETA, y, x)\n",
    "\n",
    "\n",
    "i = 0\n",
    "print('THETA', THETA)\n",
    "H_test = np.zeros([Y_test.shape[0], 1], dtype=Y_test.dtype)\n",
    "for x, y in zip(X_test, Y_test):\n",
    "    H_test[i,0] = np.around(sigmoid(x))\n",
    "    i+=1\n",
    "plt.figure(1)\n",
    "x = np.linspace(-7, 4, 50)\n",
    "plt.scatter(X_test[:, 1], X_test[:, 2], c=H_test[:, 0], edgecolors='white', marker='s')\n",
    "plt.show()"
   ]
  }
 ],
 "metadata": {
  "kernelspec": {
   "display_name": "Python 3",
   "language": "python",
   "name": "python3"
  },
  "language_info": {
   "codemirror_mode": {
    "name": "ipython",
    "version": 3
   },
   "file_extension": ".py",
   "mimetype": "text/x-python",
   "name": "python",
   "nbconvert_exporter": "python",
   "pygments_lexer": "ipython3",
   "version": "3.6.8"
  }
 },
 "nbformat": 4,
 "nbformat_minor": 4
}
