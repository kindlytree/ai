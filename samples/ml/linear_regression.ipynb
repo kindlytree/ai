{
 "cells": [
  {
   "cell_type": "markdown",
   "metadata": {},
   "source": [
    "# Linear Regression\n",
    "- [文档描述](http://note.youdao.com/noteshare?id=e3d052b17e33e6a1d9c45b7f8a90d86c)\n",
    "- [概率解释](http://note.youdao.com/noteshare?id=7fed273c48f9cae6c2de5155755fe1c4)\n",
    "- [其他代码实现](http://note.youdao.com/noteshare?id=8e351d3f674c47465a7a6b181578f942)\n",
    "## Implementation mainly using numpy\n",
    "- [关键参考代码](https://github.com/Sierkinhane/CS229-ML-Implements/blob/master/00-SupervisedLearning/01-LinearRegression/00-LinearRegression.py)"
   ]
  },
  {
   "cell_type": "code",
   "execution_count": 1,
   "metadata": {},
   "outputs": [],
   "source": [
    "# author:kindlytree      \n",
    "# torch.nn.Linear(m, n) m,n是指维度  \n",
    "# [m,n] is model's weight shape  \n",
    "# n is m bias's shape   \n",
    "# we use sklearn dataset package to generate train data\n"
   ]
  },
  {
   "cell_type": "code",
   "execution_count": 2,
   "metadata": {},
   "outputs": [],
   "source": [
    "# original method, use numpy to implement\n",
    "%matplotlib inline\n",
    "from sklearn import datasets\n",
    "from sklearn.model_selection import train_test_split\n",
    "from matplotlib import pyplot as plt\n",
    "import numpy as np\n",
    "import time"
   ]
  },
  {
   "cell_type": "code",
   "execution_count": 3,
   "metadata": {},
   "outputs": [
    {
     "data": {
      "image/png": "[encoded data removed]",
      "text/plain": [
       "<Figure size 432x288 with 1 Axes>"
      ]
     },
     "metadata": {
      "needs_background": "light"
     },
     "output_type": "display_data"
    },
    {
     "name": "stdout",
     "output_type": "stream",
     "text": [
      "Coeff=96.19363785472291\n"
     ]
    }
   ],
   "source": [
    "# make dummy regression data\n",
    "# sklearn.datasets.make_regression https://blog.csdn.net/WWWWWWGJ/article/details/87903994\n",
    "# random_state : int, RandomState instance or None (default)\n",
    "# Determines random number generation for dataset creation. Pass an int for reproducible output across \n",
    "# multiple function calls\n",
    "# n_targets : int, optional (default=1)\n",
    "# The number of regression targets, i.e., the dimension of the y output vector associated with a sample. \n",
    "# By default, the output is a scalar.\n",
    "# n_features : int, optional (default=100) 特征数\n",
    "X, Y, Coef = datasets.make_regression(n_samples=200, n_features=1, noise=20, random_state=0, bias=50,coef=True)\n",
    "# test_size：如果是浮点数，在0-1之间，表示样本占比；如果是整数的话就是样本的数量\n",
    "X_train,X_test,Y_train,Y_test = train_test_split(X,Y,test_size=0.1, random_state=0)\n",
    "# y = \\theta^TX, X_0=1, \\theta _0 = bias\n",
    "X0_train = np.ones([X_train.shape[0],1],dtype=X_train.dtype)\n",
    "X0_test = np.ones([X_test.shape[0],1], dtype=X_test.dtype)\n",
    "X_train = np.concatenate((X0_train,X_train), axis=1)\n",
    "X_test = np.concatenate((X0_test, X_test), axis=1)\n",
    "\n",
    "# show data\n",
    "plt.scatter(X_test[:,1], Y_test, c='red', edgecolors='white')\n",
    "plt.scatter(X_train[:,1], Y_train, c='green', edgecolors='white')\n",
    "plt.ylim((Y.min()-10, Y.max()+10))\n",
    "plt.xlim((X.min()-1, X.max()+1))\n",
    "plt.show()\n",
    "print('Coef={}'.format(Coef))"
   ]
  },
  {
   "cell_type": "code",
   "execution_count": null,
   "metadata": {},
   "outputs": [
    {
     "data": {
      "image/png": "[encoded data removed]",
      "text/plain": [
       "<Figure size 432x288 with 1 Axes>"
      ]
     },
     "metadata": {
      "needs_background": "light"
     },
     "output_type": "display_data"
    }
   ],
   "source": [
    "import matplotlib.animation as animation\n",
    "import copy\n",
    "\n",
    "#learnable parameter theta\n",
    "THETA = np.zeros([2,1], dtype=np.float32)\n",
    "# learning rate\n",
    "lr = 0.02\n",
    "epoch = 3\n",
    "\n",
    "#plt.ion()\n",
    "thetas = []\n",
    "p_x = np.linspace(X.min()-1, X.max()+1, 50)\n",
    "fig = plt.figure()\n",
    "plt.ylim((Y.min()-10, Y.max()+10))\n",
    "plt.xlim((X.min()-1, X.max()+1))\n",
    "plt.scatter(X_train[:,1], Y_train, c='purple', marker='o', edgecolors='white')\n",
    "ln, = plt.plot(p_x, THETA[1,0]*p_x+THETA[0,0], c='orange')\n",
    "# numpy中的乘法\n",
    "#　元素相乘:multply()\n",
    "#　矩阵相乘:dot()、matmul()、’@’\n",
    "#　’*': 是特别的。在数组操作中，作为元素相乘；在矩阵操作中作为矩阵相乘。\n",
    "def h(theta, X):\n",
    "    h_x = np.matmul(theta.T,X)\n",
    "    return h_x\n",
    "def loss_function(theta, X, Y):\n",
    "    cost = 1/2*np.matmul((h(theta,X)-Y.T),(h(X,theta)-Y.T).T)\n",
    "    return cost/(X.shape[0])\n",
    "\n",
    "# child matrix trick using mulitiply functions\n",
    "def gradient(theta,X, Y):\n",
    "    gradient = np.multiply(X.T,(h(theta,X)-Y.T).T)\n",
    "    return gradient.mean(axis=0).T\n",
    "\n",
    "def update_parameters(theta, gradient, lr):\n",
    "    theta = theta-lr*gradient\n",
    "    return theta\n",
    "\n",
    "\n",
    "def update(frame):\n",
    "    #xdata.append(frame)\n",
    "    #ydata.append(np.sin(frame))\n",
    "    Y = frame[1,0]*p_x+frame[0,0]\n",
    "    ln.set_data(p_x, Y)\n",
    "    return ln,\n",
    "\n",
    "\n",
    "\n",
    "for ep in range(epoch):\n",
    "    for index in range(X_train.shape[0]//2):\n",
    "        batch_X = X_train[index*2:(index+1)*2,:].T # 2*2 matrix\n",
    "        batch_Y = Y_train[index*2:(index+1)*2].reshape([2,1])# 2*1 matrix\n",
    "        h_X = h(THETA, batch_X) # 1*2 matrix\n",
    "        #import IPython\n",
    "        #IPython.embed(colors=\"Linux\")\n",
    "        loss = loss_function(THETA, batch_X, batch_Y)\n",
    "        g = gradient(THETA, batch_X, batch_Y)\n",
    "        g = g.reshape([2,1])\n",
    "        THETA = update_parameters(THETA, g, lr)\n",
    "        #print(\"[{0}/{1}, Stpes:{2}, loss: {3}, Weight: {4}, Bias:{5}]\".format( \\\n",
    "        #           ep+1, epoch, index+1, loss[0][0],THETA[1,0],THETA[0,0]))\n",
    "        theta = copy.deepcopy(THETA)\n",
    "        thetas.append(theta)\n",
    "        #plt.cla()\n",
    "        #plt.scatter(X_train[:,1], Y_train, c='purple', marker='o', edgecolors='white')\n",
    "        #plt.plot(p_x, THETA[1,0]*p_x+THETA[0,0], c='orange')\n",
    "        #plt.pause(0.01)\n",
    "        # ims.append(im)\n",
    "#plt.ioff()\n",
    "anim = animation.FuncAnimation(fig, update,frames=thetas,interval=30, blit=True)\n",
    "plt.show()\n",
    "anim.save(\"sgd_linear_regression.gif\",writer='pillow')\n",
    "# ani = animation.ArtistAnimation(fig, ims, interval=200, repeat_delay=1000)\n",
    "# ani.save(\"sgd_linear_regression.gif\",writer='pillow')\n",
    "        "
   ]
  },
  {
   "cell_type": "markdown",
   "metadata": {},
   "source": [
    "![动画显示](sgd_linear_regression.gif)"
   ]
  }
 ],
 "metadata": {
  "kernelspec": {
   "display_name": "Python 3",
   "language": "python",
   "name": "python3"
  },
  "language_info": {
   "codemirror_mode": {
    "name": "ipython",
    "version": 3
   },
   "file_extension": ".py",
   "mimetype": "text/x-python",
   "name": "python",
   "nbconvert_exporter": "python",
   "pygments_lexer": "ipython3",
   "version": "3.6.8"
  }
 },
 "nbformat": 4,
 "nbformat_minor": 4
}
