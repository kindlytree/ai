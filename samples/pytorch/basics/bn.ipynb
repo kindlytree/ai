{
 "cells": [
  {
   "cell_type": "markdown",
   "metadata": {},
   "source": [
    "# Batch Normalization\n",
    "## Internal Covariate Shift\n",
    "It is often hard to train the deep neural network because the distribution of the data computing from the last layer changes after the update of parameters.The phenomenon is called the Internal Covariate Shift\n",
    "## Covariate Shift\n",
    "Internal Covariate Shift is similar to Covariate Shift, but They are different. The former happens in the internal neural network. the latter happens in data itself. Covairate Shift is the difference between "
   ]
  },
  {
   "cell_type": "code",
   "execution_count": null,
   "metadata": {},
   "outputs": [],
   "source": []
  }
 ],
 "metadata": {
  "kernelspec": {
   "display_name": "Python 3",
   "language": "python",
   "name": "python3"
  },
  "language_info": {
   "codemirror_mode": {
    "name": "ipython",
    "version": 3
   },
   "file_extension": ".py",
   "mimetype": "text/x-python",
   "name": "python",
   "nbconvert_exporter": "python",
   "pygments_lexer": "ipython3",
   "version": "3.6.8"
  }
 },
 "nbformat": 4,
 "nbformat_minor": 2
}
